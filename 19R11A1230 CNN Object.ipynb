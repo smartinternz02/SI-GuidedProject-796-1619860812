{
 "cells": [
  {
   "cell_type": "code",
   "execution_count": 40,
   "metadata": {},
   "outputs": [],
   "source": [
    "from tensorflow.keras.models import Sequential\n",
    "from tensorflow.keras.layers import Dense\n",
    "from tensorflow.keras.layers import Convolution2D\n",
    "from tensorflow.keras.layers import MaxPooling2D\n",
    "from tensorflow.keras.layers import Flatten"
   ]
  },
  {
   "cell_type": "code",
   "execution_count": 41,
   "metadata": {},
   "outputs": [],
   "source": [
    "from keras.preprocessing.image import ImageDataGenerator\n",
    "td = ImageDataGenerator(rescale = 1./255,shear_range = 0.2,zoom_range = 0.2,horizontal_flip = True)\n",
    "td = ImageDataGenerator(rescale = 1./255)"
   ]
  },
  {
   "cell_type": "code",
   "execution_count": 42,
   "metadata": {},
   "outputs": [
    {
     "name": "stdout",
     "output_type": "stream",
     "text": [
      "Found 10 images belonging to 3 classes.\n",
      "Found 5 images belonging to 3 classes.\n"
     ]
    }
   ],
   "source": [
    "xtrain = td.flow_from_directory(r\"E:\\Externship\\Datasets\\trainset\",target_size = (64,64),batch_size = 9,class_mode = \"categorical\")\n",
    "xtest = td.flow_from_directory(r\"E:\\Externship\\Datasets\\testset\",target_size = (64,64),batch_size = 9,class_mode = \"categorical\")"
   ]
  },
  {
   "cell_type": "code",
   "execution_count": 43,
   "metadata": {},
   "outputs": [],
   "source": [
    "m = Sequential()"
   ]
  },
  {
   "cell_type": "code",
   "execution_count": 44,
   "metadata": {},
   "outputs": [],
   "source": [
    "m.add(Convolution2D(32,(3,3),input_shape = (64,64,3),activation = \"relu\"))"
   ]
  },
  {
   "cell_type": "code",
   "execution_count": 45,
   "metadata": {},
   "outputs": [],
   "source": [
    "m.add(MaxPooling2D(2,2))"
   ]
  },
  {
   "cell_type": "code",
   "execution_count": 46,
   "metadata": {},
   "outputs": [],
   "source": [
    "m.add(Flatten())"
   ]
  },
  {
   "cell_type": "code",
   "execution_count": 47,
   "metadata": {},
   "outputs": [],
   "source": [
    "m.add(Dense(units = 28,activation = \"relu\",kernel_initializer = \"random_uniform\"))"
   ]
  },
  {
   "cell_type": "code",
   "execution_count": 48,
   "metadata": {},
   "outputs": [],
   "source": [
    "m.add(Dense(units = 3,activation = \"softmax\",kernel_initializer = \"random_uniform\"))"
   ]
  },
  {
   "cell_type": "code",
   "execution_count": 49,
   "metadata": {},
   "outputs": [],
   "source": [
    "m.compile(\"sgd\",loss = \"categorical_crossentropy\",metrics = [\"accuracy\"])"
   ]
  },
  {
   "cell_type": "code",
   "execution_count": 50,
   "metadata": {},
   "outputs": [
    {
     "name": "stdout",
     "output_type": "stream",
     "text": [
      "Epoch 1/13\n",
      "5/5 [==============================] - 1s 225ms/step - loss: 0.9695 - acc: 0.4483 - val_loss: 0.6712 - val_acc: 0.8000\n",
      "Epoch 2/13\n",
      "5/5 [==============================] - 1s 104ms/step - loss: 1.1871 - acc: 0.4286 - val_loss: 0.8203 - val_acc: 0.8000\n",
      "Epoch 3/13\n",
      "5/5 [==============================] - 1s 107ms/step - loss: 1.0580 - acc: 0.4483 - val_loss: 0.8524 - val_acc: 0.8000\n",
      "Epoch 4/13\n",
      "5/5 [==============================] - 0s 94ms/step - loss: 0.8891 - acc: 0.5238 - val_loss: 0.7928 - val_acc: 0.8000\n",
      "Epoch 5/13\n",
      "5/5 [==============================] - 0s 91ms/step - loss: 0.9479 - acc: 0.5238 - val_loss: 0.6890 - val_acc: 0.8000\n",
      "Epoch 6/13\n",
      "5/5 [==============================] - 1s 102ms/step - loss: 0.8130 - acc: 0.4828 - val_loss: 0.5767 - val_acc: 0.8000\n",
      "Epoch 7/13\n",
      "5/5 [==============================] - 0s 92ms/step - loss: 0.9712 - acc: 0.4762 - val_loss: 0.8249 - val_acc: 0.2000\n",
      "Epoch 8/13\n",
      "5/5 [==============================] - 1s 107ms/step - loss: 0.8376 - acc: 0.4138 - val_loss: 0.5796 - val_acc: 0.8000\n",
      "Epoch 9/13\n",
      "5/5 [==============================] - 1s 104ms/step - loss: 0.9078 - acc: 0.5517 - val_loss: 0.7168 - val_acc: 0.8000\n",
      "Epoch 10/13\n",
      "5/5 [==============================] - 0s 94ms/step - loss: 0.8705 - acc: 0.5238 - val_loss: 0.6519 - val_acc: 0.8000\n",
      "Epoch 11/13\n",
      "5/5 [==============================] - 1s 115ms/step - loss: 0.9509 - acc: 0.6190 - val_loss: 0.8100 - val_acc: 0.8000\n",
      "Epoch 12/13\n",
      "5/5 [==============================] - 1s 106ms/step - loss: 0.7194 - acc: 0.5517 - val_loss: 0.5213 - val_acc: 0.8000\n",
      "Epoch 13/13\n",
      "5/5 [==============================] - 0s 93ms/step - loss: 0.7477 - acc: 0.5238 - val_loss: 0.5271 - val_acc: 0.8000\n"
     ]
    },
    {
     "data": {
      "text/plain": [
       "<tensorflow.python.keras.callbacks.History at 0x1e9f5360748>"
      ]
     },
     "execution_count": 50,
     "metadata": {},
     "output_type": "execute_result"
    }
   ],
   "source": [
    "m.fit_generator(xtrain,steps_per_epoch = 5,epochs = 13,validation_data = xtest,validation_steps = 2 )"
   ]
  },
  {
   "cell_type": "code",
   "execution_count": 58,
   "metadata": {},
   "outputs": [],
   "source": [
    "m.save(\"object.h5\") "
   ]
  },
  {
   "cell_type": "code",
   "execution_count": null,
   "metadata": {},
   "outputs": [],
   "source": []
  },
  {
   "cell_type": "code",
   "execution_count": 152,
   "metadata": {},
   "outputs": [],
   "source": [
    "from tensorflow.keras.models import load_model\n",
    "from tensorflow.keras.preprocessing import image\n",
    "import cv2\n",
    "import numpy as np"
   ]
  },
  {
   "cell_type": "code",
   "execution_count": 153,
   "metadata": {},
   "outputs": [],
   "source": [
    "index = [\"bottle\",\"notebook\",\"pen\"]"
   ]
  },
  {
   "cell_type": "code",
   "execution_count": 154,
   "metadata": {},
   "outputs": [],
   "source": [
    "model = load_model(\"object.h5\")"
   ]
  },
  {
   "cell_type": "code",
   "execution_count": 155,
   "metadata": {},
   "outputs": [],
   "source": [
    "img = image.load_img(\"pen.JFIF\",target_size=(64,64))"
   ]
  },
  {
   "cell_type": "code",
   "execution_count": 156,
   "metadata": {},
   "outputs": [],
   "source": [
    "x = image.img_to_array(img)"
   ]
  },
  {
   "cell_type": "code",
   "execution_count": 157,
   "metadata": {},
   "outputs": [],
   "source": [
    "x = np.expand_dims(x,axis = 0)"
   ]
  },
  {
   "cell_type": "code",
   "execution_count": 158,
   "metadata": {},
   "outputs": [],
   "source": [
    "pred = model.predict_classes(x)"
   ]
  },
  {
   "cell_type": "code",
   "execution_count": 159,
   "metadata": {},
   "outputs": [
    {
     "data": {
      "text/plain": [
       "2"
      ]
     },
     "execution_count": 159,
     "metadata": {},
     "output_type": "execute_result"
    }
   ],
   "source": [
    "pred[0]"
   ]
  },
  {
   "cell_type": "code",
   "execution_count": 160,
   "metadata": {},
   "outputs": [
    {
     "name": "stdout",
     "output_type": "stream",
     "text": [
      "pen\n"
     ]
    }
   ],
   "source": [
    "print (index[pred[0]])"
   ]
  },
  {
   "cell_type": "code",
   "execution_count": null,
   "metadata": {},
   "outputs": [],
   "source": []
  },
  {
   "cell_type": "code",
   "execution_count": null,
   "metadata": {},
   "outputs": [],
   "source": []
  }
 ],
 "metadata": {
  "kernelspec": {
   "display_name": "Python 3",
   "language": "python",
   "name": "python3"
  },
  "language_info": {
   "codemirror_mode": {
    "name": "ipython",
    "version": 3
   },
   "file_extension": ".py",
   "mimetype": "text/x-python",
   "name": "python",
   "nbconvert_exporter": "python",
   "pygments_lexer": "ipython3",
   "version": "3.7.3"
  }
 },
 "nbformat": 4,
 "nbformat_minor": 2
}
